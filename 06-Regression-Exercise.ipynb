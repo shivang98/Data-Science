{
 "cells": [
  {
   "cell_type": "markdown",
   "metadata": {},
   "source": [
    "# Regression Exercise \n",
    "\n",
    "California Housing Data\n",
    "\n",
    "This data set contains information about all the block groups in California from the 1990 Census. In this sample a block group on average includes 1425.5 individuals living in a geographically compact area. \n",
    "\n",
    "The task is to aproximate the median house value of each block from the values of the rest of the variables. \n",
    "\n",
    " It has been obtained from the LIACC repository. The original page where the data set can be found is: http://www.liaad.up.pt/~ltorgo/Regression/DataSets.html.\n",
    " "
   ]
  },
  {
   "cell_type": "markdown",
   "metadata": {
    "collapsed": true
   },
   "source": [
    "The Features:\n",
    " \n",
    "* housingMedianAge: continuous. \n",
    "* totalRooms: continuous. \n",
    "* totalBedrooms: continuous. \n",
    "* population: continuous. \n",
    "* households: continuous. \n",
    "* medianIncome: continuous. \n",
    "* medianHouseValue: continuous. "
   ]
  },
  {
   "cell_type": "markdown",
   "metadata": {},
   "source": [
    "## The Data"
   ]
  },
  {
   "cell_type": "markdown",
   "metadata": {},
   "source": [
    "** Import the cal_housing_clean.csv file with pandas. Separate it into a training (70%) and testing set(30%).**"
   ]
  },
  {
   "cell_type": "code",
   "execution_count": 30,
   "metadata": {
    "collapsed": true
   },
   "outputs": [],
   "source": [
    "import pandas as pd"
   ]
  },
  {
   "cell_type": "code",
   "execution_count": 31,
   "metadata": {
    "collapsed": true
   },
   "outputs": [],
   "source": [
    "dataset = pd.read_csv('cal_housing_clean.csv')"
   ]
  },
  {
   "cell_type": "code",
   "execution_count": 32,
   "metadata": {},
   "outputs": [
    {
     "data": {
      "text/html": [
       "<div>\n",
       "<style>\n",
       "    .dataframe thead tr:only-child th {\n",
       "        text-align: right;\n",
       "    }\n",
       "\n",
       "    .dataframe thead th {\n",
       "        text-align: left;\n",
       "    }\n",
       "\n",
       "    .dataframe tbody tr th {\n",
       "        vertical-align: top;\n",
       "    }\n",
       "</style>\n",
       "<table border=\"1\" class=\"dataframe\">\n",
       "  <thead>\n",
       "    <tr style=\"text-align: right;\">\n",
       "      <th></th>\n",
       "      <th>housingMedianAge</th>\n",
       "      <th>totalRooms</th>\n",
       "      <th>totalBedrooms</th>\n",
       "      <th>population</th>\n",
       "      <th>households</th>\n",
       "      <th>medianIncome</th>\n",
       "      <th>medianHouseValue</th>\n",
       "    </tr>\n",
       "  </thead>\n",
       "  <tbody>\n",
       "    <tr>\n",
       "      <th>0</th>\n",
       "      <td>41.0</td>\n",
       "      <td>880.0</td>\n",
       "      <td>129.0</td>\n",
       "      <td>322.0</td>\n",
       "      <td>126.0</td>\n",
       "      <td>8.3252</td>\n",
       "      <td>452600.0</td>\n",
       "    </tr>\n",
       "    <tr>\n",
       "      <th>1</th>\n",
       "      <td>21.0</td>\n",
       "      <td>7099.0</td>\n",
       "      <td>1106.0</td>\n",
       "      <td>2401.0</td>\n",
       "      <td>1138.0</td>\n",
       "      <td>8.3014</td>\n",
       "      <td>358500.0</td>\n",
       "    </tr>\n",
       "    <tr>\n",
       "      <th>2</th>\n",
       "      <td>52.0</td>\n",
       "      <td>1467.0</td>\n",
       "      <td>190.0</td>\n",
       "      <td>496.0</td>\n",
       "      <td>177.0</td>\n",
       "      <td>7.2574</td>\n",
       "      <td>352100.0</td>\n",
       "    </tr>\n",
       "    <tr>\n",
       "      <th>3</th>\n",
       "      <td>52.0</td>\n",
       "      <td>1274.0</td>\n",
       "      <td>235.0</td>\n",
       "      <td>558.0</td>\n",
       "      <td>219.0</td>\n",
       "      <td>5.6431</td>\n",
       "      <td>341300.0</td>\n",
       "    </tr>\n",
       "    <tr>\n",
       "      <th>4</th>\n",
       "      <td>52.0</td>\n",
       "      <td>1627.0</td>\n",
       "      <td>280.0</td>\n",
       "      <td>565.0</td>\n",
       "      <td>259.0</td>\n",
       "      <td>3.8462</td>\n",
       "      <td>342200.0</td>\n",
       "    </tr>\n",
       "  </tbody>\n",
       "</table>\n",
       "</div>"
      ],
      "text/plain": [
       "   housingMedianAge  totalRooms  totalBedrooms  population  households  \\\n",
       "0              41.0       880.0          129.0       322.0       126.0   \n",
       "1              21.0      7099.0         1106.0      2401.0      1138.0   \n",
       "2              52.0      1467.0          190.0       496.0       177.0   \n",
       "3              52.0      1274.0          235.0       558.0       219.0   \n",
       "4              52.0      1627.0          280.0       565.0       259.0   \n",
       "\n",
       "   medianIncome  medianHouseValue  \n",
       "0        8.3252          452600.0  \n",
       "1        8.3014          358500.0  \n",
       "2        7.2574          352100.0  \n",
       "3        5.6431          341300.0  \n",
       "4        3.8462          342200.0  "
      ]
     },
     "execution_count": 32,
     "metadata": {},
     "output_type": "execute_result"
    }
   ],
   "source": [
    "dataset.head()"
   ]
  },
  {
   "cell_type": "code",
   "execution_count": 33,
   "metadata": {},
   "outputs": [
    {
     "data": {
      "text/html": [
       "<div>\n",
       "<style>\n",
       "    .dataframe thead tr:only-child th {\n",
       "        text-align: right;\n",
       "    }\n",
       "\n",
       "    .dataframe thead th {\n",
       "        text-align: left;\n",
       "    }\n",
       "\n",
       "    .dataframe tbody tr th {\n",
       "        vertical-align: top;\n",
       "    }\n",
       "</style>\n",
       "<table border=\"1\" class=\"dataframe\">\n",
       "  <thead>\n",
       "    <tr style=\"text-align: right;\">\n",
       "      <th></th>\n",
       "      <th>count</th>\n",
       "      <th>mean</th>\n",
       "      <th>std</th>\n",
       "      <th>min</th>\n",
       "      <th>25%</th>\n",
       "      <th>50%</th>\n",
       "      <th>75%</th>\n",
       "      <th>max</th>\n",
       "    </tr>\n",
       "  </thead>\n",
       "  <tbody>\n",
       "    <tr>\n",
       "      <th>housingMedianAge</th>\n",
       "      <td>20640.0</td>\n",
       "      <td>28.639486</td>\n",
       "      <td>12.585558</td>\n",
       "      <td>1.0000</td>\n",
       "      <td>18.0000</td>\n",
       "      <td>29.0000</td>\n",
       "      <td>37.00000</td>\n",
       "      <td>52.0000</td>\n",
       "    </tr>\n",
       "    <tr>\n",
       "      <th>totalRooms</th>\n",
       "      <td>20640.0</td>\n",
       "      <td>2635.763081</td>\n",
       "      <td>2181.615252</td>\n",
       "      <td>2.0000</td>\n",
       "      <td>1447.7500</td>\n",
       "      <td>2127.0000</td>\n",
       "      <td>3148.00000</td>\n",
       "      <td>39320.0000</td>\n",
       "    </tr>\n",
       "    <tr>\n",
       "      <th>totalBedrooms</th>\n",
       "      <td>20640.0</td>\n",
       "      <td>537.898014</td>\n",
       "      <td>421.247906</td>\n",
       "      <td>1.0000</td>\n",
       "      <td>295.0000</td>\n",
       "      <td>435.0000</td>\n",
       "      <td>647.00000</td>\n",
       "      <td>6445.0000</td>\n",
       "    </tr>\n",
       "    <tr>\n",
       "      <th>population</th>\n",
       "      <td>20640.0</td>\n",
       "      <td>1425.476744</td>\n",
       "      <td>1132.462122</td>\n",
       "      <td>3.0000</td>\n",
       "      <td>787.0000</td>\n",
       "      <td>1166.0000</td>\n",
       "      <td>1725.00000</td>\n",
       "      <td>35682.0000</td>\n",
       "    </tr>\n",
       "    <tr>\n",
       "      <th>households</th>\n",
       "      <td>20640.0</td>\n",
       "      <td>499.539680</td>\n",
       "      <td>382.329753</td>\n",
       "      <td>1.0000</td>\n",
       "      <td>280.0000</td>\n",
       "      <td>409.0000</td>\n",
       "      <td>605.00000</td>\n",
       "      <td>6082.0000</td>\n",
       "    </tr>\n",
       "    <tr>\n",
       "      <th>medianIncome</th>\n",
       "      <td>20640.0</td>\n",
       "      <td>3.870671</td>\n",
       "      <td>1.899822</td>\n",
       "      <td>0.4999</td>\n",
       "      <td>2.5634</td>\n",
       "      <td>3.5348</td>\n",
       "      <td>4.74325</td>\n",
       "      <td>15.0001</td>\n",
       "    </tr>\n",
       "    <tr>\n",
       "      <th>medianHouseValue</th>\n",
       "      <td>20640.0</td>\n",
       "      <td>206855.816909</td>\n",
       "      <td>115395.615874</td>\n",
       "      <td>14999.0000</td>\n",
       "      <td>119600.0000</td>\n",
       "      <td>179700.0000</td>\n",
       "      <td>264725.00000</td>\n",
       "      <td>500001.0000</td>\n",
       "    </tr>\n",
       "  </tbody>\n",
       "</table>\n",
       "</div>"
      ],
      "text/plain": [
       "                    count           mean            std         min  \\\n",
       "housingMedianAge  20640.0      28.639486      12.585558      1.0000   \n",
       "totalRooms        20640.0    2635.763081    2181.615252      2.0000   \n",
       "totalBedrooms     20640.0     537.898014     421.247906      1.0000   \n",
       "population        20640.0    1425.476744    1132.462122      3.0000   \n",
       "households        20640.0     499.539680     382.329753      1.0000   \n",
       "medianIncome      20640.0       3.870671       1.899822      0.4999   \n",
       "medianHouseValue  20640.0  206855.816909  115395.615874  14999.0000   \n",
       "\n",
       "                          25%          50%           75%          max  \n",
       "housingMedianAge      18.0000      29.0000      37.00000      52.0000  \n",
       "totalRooms          1447.7500    2127.0000    3148.00000   39320.0000  \n",
       "totalBedrooms        295.0000     435.0000     647.00000    6445.0000  \n",
       "population           787.0000    1166.0000    1725.00000   35682.0000  \n",
       "households           280.0000     409.0000     605.00000    6082.0000  \n",
       "medianIncome           2.5634       3.5348       4.74325      15.0001  \n",
       "medianHouseValue  119600.0000  179700.0000  264725.00000  500001.0000  "
      ]
     },
     "execution_count": 33,
     "metadata": {},
     "output_type": "execute_result"
    }
   ],
   "source": [
    "dataset.describe().transpose()"
   ]
  },
  {
   "cell_type": "code",
   "execution_count": 34,
   "metadata": {
    "collapsed": true,
    "scrolled": true
   },
   "outputs": [],
   "source": [
    "from sklearn.model_selection import train_test_split"
   ]
  },
  {
   "cell_type": "code",
   "execution_count": 35,
   "metadata": {
    "collapsed": true
   },
   "outputs": [],
   "source": [
    "X = dataset.drop('medianHouseValue', axis=1)"
   ]
  },
  {
   "cell_type": "code",
   "execution_count": 36,
   "metadata": {
    "collapsed": true
   },
   "outputs": [],
   "source": [
    "y = dataset['medianHouseValue']"
   ]
  },
  {
   "cell_type": "code",
   "execution_count": 37,
   "metadata": {},
   "outputs": [],
   "source": [
    "X_train, X_test, y_train, y_test = train_test_split(X, y, test_size = 0.3, random_state = 101)"
   ]
  },
  {
   "cell_type": "markdown",
   "metadata": {},
   "source": [
    "### Scale the Feature Data\n",
    "\n",
    "** Use sklearn preprocessing to create a MinMaxScaler for the feature data. Fit this scaler only to the training data. Then use it to transform X_test and X_train. Then use the scaled X_test and X_train along with pd.Dataframe to re-create two dataframes of scaled data.**"
   ]
  },
  {
   "cell_type": "code",
   "execution_count": 38,
   "metadata": {
    "collapsed": true
   },
   "outputs": [],
   "source": [
    "from sklearn.preprocessing import MinMaxScaler"
   ]
  },
  {
   "cell_type": "code",
   "execution_count": 39,
   "metadata": {
    "collapsed": true
   },
   "outputs": [],
   "source": [
    "scaler = MinMaxScaler()"
   ]
  },
  {
   "cell_type": "code",
   "execution_count": 40,
   "metadata": {},
   "outputs": [
    {
     "data": {
      "text/plain": [
       "MinMaxScaler(copy=True, feature_range=(0, 1))"
      ]
     },
     "execution_count": 40,
     "metadata": {},
     "output_type": "execute_result"
    }
   ],
   "source": [
    "scaler"
   ]
  },
  {
   "cell_type": "code",
   "execution_count": 41,
   "metadata": {},
   "outputs": [
    {
     "data": {
      "text/plain": [
       "MinMaxScaler(copy=True, feature_range=(0, 1))"
      ]
     },
     "execution_count": 41,
     "metadata": {},
     "output_type": "execute_result"
    }
   ],
   "source": [
    "scaler.fit(X_train)"
   ]
  },
  {
   "cell_type": "code",
   "execution_count": 42,
   "metadata": {
    "collapsed": true
   },
   "outputs": [],
   "source": [
    "X_train = pd.DataFrame(data=scaler.transform(X_train), columns=X_train.columns, index=X_train.index)"
   ]
  },
  {
   "cell_type": "code",
   "execution_count": 43,
   "metadata": {
    "collapsed": true
   },
   "outputs": [],
   "source": [
    "X_test = pd.DataFrame(data=scaler.transform(X_test), columns=X_test.columns, index=X_test.index)"
   ]
  },
  {
   "cell_type": "markdown",
   "metadata": {},
   "source": [
    "### Create Feature Columns\n",
    "\n",
    "** Create the necessary tf.feature_column objects for the estimator. They should all be trated as continuous numeric_columns. **"
   ]
  },
  {
   "cell_type": "code",
   "execution_count": 44,
   "metadata": {},
   "outputs": [
    {
     "data": {
      "text/plain": [
       "Index(['housingMedianAge', 'totalRooms', 'totalBedrooms', 'population',\n",
       "       'households', 'medianIncome', 'medianHouseValue'],\n",
       "      dtype='object')"
      ]
     },
     "execution_count": 44,
     "metadata": {},
     "output_type": "execute_result"
    }
   ],
   "source": [
    "dataset.columns"
   ]
  },
  {
   "cell_type": "code",
   "execution_count": 45,
   "metadata": {
    "collapsed": true
   },
   "outputs": [],
   "source": [
    "import tensorflow as tf"
   ]
  },
  {
   "cell_type": "code",
   "execution_count": 46,
   "metadata": {
    "collapsed": true
   },
   "outputs": [],
   "source": [
    "age = tf.feature_column.numeric_column('housingMedianAge')\n",
    "rooms = tf.feature_column.numeric_column('totalRooms')\n",
    "bedrooms = tf.feature_column.numeric_column('totalBedrooms')\n",
    "pop = tf.feature_column.numeric_column('population')\n",
    "households = tf.feature_column.numeric_column('households')\n",
    "income = tf.feature_column.numeric_column('medianIncome')"
   ]
  },
  {
   "cell_type": "code",
   "execution_count": 47,
   "metadata": {
    "collapsed": true
   },
   "outputs": [],
   "source": [
    "feat_cols = [ age,rooms,bedrooms,pop,households,income]"
   ]
  },
  {
   "cell_type": "markdown",
   "metadata": {},
   "source": [
    "** Create the input function for the estimator object. (play around with batch_size and num_epochs)**"
   ]
  },
  {
   "cell_type": "code",
   "execution_count": 48,
   "metadata": {
    "collapsed": true
   },
   "outputs": [],
   "source": [
    "input_func = tf.estimator.inputs.pandas_input_fn(x = X_train, y = y_train, batch_size=10, num_epochs=1000, shuffle=True)"
   ]
  },
  {
   "cell_type": "markdown",
   "metadata": {},
   "source": [
    "** Create the estimator model. Use a DNNRegressor. Play around with the hidden units! **"
   ]
  },
  {
   "cell_type": "code",
   "execution_count": 49,
   "metadata": {},
   "outputs": [
    {
     "name": "stdout",
     "output_type": "stream",
     "text": [
      "INFO:tensorflow:Using default config.\n",
      "WARNING:tensorflow:Using temporary folder as model directory: C:\\Users\\shiva\\AppData\\Local\\Temp\\tmpaclkqe8u\n",
      "INFO:tensorflow:Using config: {'_save_checkpoints_steps': None, '_keep_checkpoint_every_n_hours': 10000, '_model_dir': 'C:\\\\Users\\\\shiva\\\\AppData\\\\Local\\\\Temp\\\\tmpaclkqe8u', '_tf_random_seed': 1, '_save_checkpoints_secs': 600, '_save_summary_steps': 100, '_session_config': None, '_keep_checkpoint_max': 5, '_log_step_count_steps': 100}\n"
     ]
    }
   ],
   "source": [
    "model = tf.estimator.DNNRegressor(hidden_units=[6,6,6], feature_columns=feat_cols)"
   ]
  },
  {
   "cell_type": "markdown",
   "metadata": {},
   "source": [
    "##### ** Train the model for ~1,000 steps. (Later come back to this and train it for more and check for improvement) **"
   ]
  },
  {
   "cell_type": "code",
   "execution_count": 58,
   "metadata": {},
   "outputs": [
    {
     "name": "stdout",
     "output_type": "stream",
     "text": [
      "INFO:tensorflow:Create CheckpointSaverHook.\n",
      "INFO:tensorflow:Restoring parameters from C:\\Users\\shiva\\AppData\\Local\\Temp\\tmpaclkqe8u\\model.ckpt-1000\n",
      "INFO:tensorflow:Saving checkpoints for 1001 into C:\\Users\\shiva\\AppData\\Local\\Temp\\tmpaclkqe8u\\model.ckpt.\n",
      "INFO:tensorflow:step = 1001, loss = 2.69709e+11\n",
      "INFO:tensorflow:global_step/sec: 304.673\n",
      "INFO:tensorflow:step = 1101, loss = 2.59992e+11 (0.328 sec)\n",
      "INFO:tensorflow:global_step/sec: 345.444\n",
      "INFO:tensorflow:step = 1201, loss = 2.78847e+11 (0.289 sec)\n",
      "INFO:tensorflow:global_step/sec: 342.568\n",
      "INFO:tensorflow:step = 1301, loss = 4.05472e+10 (0.302 sec)\n",
      "INFO:tensorflow:global_step/sec: 386.729\n",
      "INFO:tensorflow:step = 1401, loss = 2.29087e+11 (0.265 sec)\n",
      "INFO:tensorflow:global_step/sec: 353.19\n",
      "INFO:tensorflow:step = 1501, loss = 1.31881e+11 (0.266 sec)\n",
      "INFO:tensorflow:global_step/sec: 340.789\n",
      "INFO:tensorflow:step = 1601, loss = 2.19287e+11 (0.294 sec)\n",
      "INFO:tensorflow:global_step/sec: 385.428\n",
      "INFO:tensorflow:step = 1701, loss = 6.7627e+10 (0.274 sec)\n",
      "INFO:tensorflow:global_step/sec: 361.076\n",
      "INFO:tensorflow:step = 1801, loss = 5.51248e+10 (0.261 sec)\n",
      "INFO:tensorflow:global_step/sec: 366.314\n",
      "INFO:tensorflow:step = 1901, loss = 1.86704e+11 (0.290 sec)\n",
      "INFO:tensorflow:global_step/sec: 385.953\n",
      "INFO:tensorflow:step = 2001, loss = 1.11507e+11 (0.262 sec)\n",
      "INFO:tensorflow:global_step/sec: 362.707\n",
      "INFO:tensorflow:step = 2101, loss = 1.66955e+11 (0.261 sec)\n",
      "INFO:tensorflow:global_step/sec: 374.252\n",
      "INFO:tensorflow:step = 2201, loss = 2.34361e+11 (0.262 sec)\n",
      "INFO:tensorflow:global_step/sec: 292.018\n",
      "INFO:tensorflow:step = 2301, loss = 1.57869e+11 (0.349 sec)\n",
      "INFO:tensorflow:global_step/sec: 392.153\n",
      "INFO:tensorflow:step = 2401, loss = 3.97393e+10 (0.265 sec)\n",
      "INFO:tensorflow:global_step/sec: 353.93\n",
      "INFO:tensorflow:step = 2501, loss = 1.32612e+11 (0.267 sec)\n",
      "INFO:tensorflow:global_step/sec: 353.282\n",
      "INFO:tensorflow:step = 2601, loss = 1.68713e+11 (0.292 sec)\n",
      "INFO:tensorflow:global_step/sec: 375.986\n",
      "INFO:tensorflow:step = 2701, loss = 4.42715e+10 (0.256 sec)\n",
      "INFO:tensorflow:global_step/sec: 375.514\n",
      "INFO:tensorflow:step = 2801, loss = 1.05794e+11 (0.266 sec)\n",
      "INFO:tensorflow:global_step/sec: 350.728\n",
      "INFO:tensorflow:step = 2901, loss = 6.20214e+10 (0.289 sec)\n",
      "INFO:tensorflow:global_step/sec: 346.931\n",
      "INFO:tensorflow:step = 3001, loss = 1.18294e+11 (0.292 sec)\n",
      "INFO:tensorflow:global_step/sec: 361.153\n",
      "INFO:tensorflow:step = 3101, loss = 4.66748e+10 (0.269 sec)\n",
      "INFO:tensorflow:global_step/sec: 363.179\n",
      "INFO:tensorflow:step = 3201, loss = 6.09112e+10 (0.291 sec)\n",
      "INFO:tensorflow:global_step/sec: 379.635\n",
      "INFO:tensorflow:step = 3301, loss = 1.20756e+11 (0.266 sec)\n",
      "INFO:tensorflow:global_step/sec: 371.962\n",
      "INFO:tensorflow:step = 3401, loss = 1.46992e+11 (0.271 sec)\n",
      "INFO:tensorflow:global_step/sec: 363.233\n",
      "INFO:tensorflow:step = 3501, loss = 5.13981e+10 (0.271 sec)\n",
      "INFO:tensorflow:global_step/sec: 380.575\n",
      "INFO:tensorflow:step = 3601, loss = 4.08593e+10 (0.263 sec)\n",
      "INFO:tensorflow:global_step/sec: 345\n",
      "INFO:tensorflow:step = 3701, loss = 7.92917e+10 (0.274 sec)\n",
      "INFO:tensorflow:global_step/sec: 360.644\n",
      "INFO:tensorflow:step = 3801, loss = 1.44648e+11 (0.294 sec)\n",
      "INFO:tensorflow:global_step/sec: 354.476\n",
      "INFO:tensorflow:step = 3901, loss = 7.44742e+10 (0.271 sec)\n",
      "INFO:tensorflow:global_step/sec: 369.335\n",
      "INFO:tensorflow:step = 4001, loss = 1.96699e+11 (0.274 sec)\n",
      "INFO:tensorflow:global_step/sec: 360.686\n",
      "INFO:tensorflow:step = 4101, loss = 8.08897e+10 (0.273 sec)\n",
      "INFO:tensorflow:global_step/sec: 393.788\n",
      "INFO:tensorflow:step = 4201, loss = 5.67559e+10 (0.266 sec)\n",
      "INFO:tensorflow:global_step/sec: 362.369\n",
      "INFO:tensorflow:step = 4301, loss = 1.25849e+11 (0.264 sec)\n",
      "INFO:tensorflow:global_step/sec: 364.146\n",
      "INFO:tensorflow:step = 4401, loss = 9.48445e+10 (0.287 sec)\n",
      "INFO:tensorflow:global_step/sec: 374.306\n",
      "INFO:tensorflow:step = 4501, loss = 6.7513e+10 (0.259 sec)\n",
      "INFO:tensorflow:global_step/sec: 364.458\n",
      "INFO:tensorflow:step = 4601, loss = 1.81537e+11 (0.274 sec)\n",
      "INFO:tensorflow:global_step/sec: 362.952\n",
      "INFO:tensorflow:step = 4701, loss = 1.1203e+11 (0.273 sec)\n",
      "INFO:tensorflow:global_step/sec: 388.573\n",
      "INFO:tensorflow:step = 4801, loss = 7.37546e+10 (0.267 sec)\n",
      "INFO:tensorflow:global_step/sec: 348.905\n",
      "INFO:tensorflow:step = 4901, loss = 7.45604e+10 (0.279 sec)\n",
      "INFO:tensorflow:global_step/sec: 338.612\n",
      "INFO:tensorflow:step = 5001, loss = 8.05796e+10 (0.295 sec)\n",
      "INFO:tensorflow:global_step/sec: 380.664\n",
      "INFO:tensorflow:step = 5101, loss = 9.07093e+10 (0.255 sec)\n",
      "INFO:tensorflow:global_step/sec: 378.996\n",
      "INFO:tensorflow:step = 5201, loss = 5.90799e+10 (0.280 sec)\n",
      "INFO:tensorflow:global_step/sec: 390.86\n",
      "INFO:tensorflow:step = 5301, loss = 1.07975e+11 (0.257 sec)\n",
      "INFO:tensorflow:global_step/sec: 370.139\n",
      "INFO:tensorflow:step = 5401, loss = 5.49311e+10 (0.253 sec)\n",
      "INFO:tensorflow:global_step/sec: 396.133\n",
      "INFO:tensorflow:step = 5501, loss = 1.22934e+11 (0.269 sec)\n",
      "INFO:tensorflow:global_step/sec: 363.737\n",
      "INFO:tensorflow:step = 5601, loss = 6.57026e+10 (0.258 sec)\n",
      "INFO:tensorflow:global_step/sec: 385.45\n",
      "INFO:tensorflow:step = 5701, loss = 1.54245e+11 (0.278 sec)\n",
      "INFO:tensorflow:global_step/sec: 347.436\n",
      "INFO:tensorflow:step = 5801, loss = 1.35083e+11 (0.269 sec)\n",
      "INFO:tensorflow:global_step/sec: 385.177\n",
      "INFO:tensorflow:step = 5901, loss = 1.35089e+11 (0.260 sec)\n",
      "INFO:tensorflow:global_step/sec: 397.452\n",
      "INFO:tensorflow:step = 6001, loss = 2.24721e+11 (0.260 sec)\n",
      "INFO:tensorflow:global_step/sec: 387.012\n",
      "INFO:tensorflow:step = 6101, loss = 5.11878e+10 (0.264 sec)\n",
      "INFO:tensorflow:global_step/sec: 376.627\n",
      "INFO:tensorflow:step = 6201, loss = 1.08326e+11 (0.252 sec)\n",
      "INFO:tensorflow:global_step/sec: 377.21\n",
      "INFO:tensorflow:step = 6301, loss = 6.10079e+10 (0.282 sec)\n",
      "INFO:tensorflow:global_step/sec: 369.634\n",
      "INFO:tensorflow:step = 6401, loss = 1.54995e+11 (0.268 sec)\n",
      "INFO:tensorflow:global_step/sec: 371.837\n",
      "INFO:tensorflow:step = 6501, loss = 1.09167e+11 (0.271 sec)\n",
      "INFO:tensorflow:global_step/sec: 364.512\n",
      "INFO:tensorflow:step = 6601, loss = 6.36028e+10 (0.258 sec)\n",
      "INFO:tensorflow:global_step/sec: 357.901\n",
      "INFO:tensorflow:step = 6701, loss = 1.37499e+11 (0.279 sec)\n",
      "INFO:tensorflow:global_step/sec: 371.713\n",
      "INFO:tensorflow:step = 6801, loss = 8.83321e+10 (0.279 sec)\n",
      "INFO:tensorflow:global_step/sec: 346.102\n",
      "INFO:tensorflow:step = 6901, loss = 1.15133e+11 (0.283 sec)\n",
      "INFO:tensorflow:global_step/sec: 373.326\n",
      "INFO:tensorflow:step = 7001, loss = 9.09587e+10 (0.282 sec)\n",
      "INFO:tensorflow:global_step/sec: 385.428\n",
      "INFO:tensorflow:step = 7101, loss = 1.61245e+11 (0.242 sec)\n",
      "INFO:tensorflow:global_step/sec: 384.995\n",
      "INFO:tensorflow:step = 7201, loss = 8.23213e+10 (0.281 sec)\n",
      "INFO:tensorflow:global_step/sec: 384.582\n",
      "INFO:tensorflow:step = 7301, loss = 1.01157e+11 (0.257 sec)\n",
      "INFO:tensorflow:global_step/sec: 364.204\n",
      "INFO:tensorflow:step = 7401, loss = 6.90702e+10 (0.261 sec)\n",
      "INFO:tensorflow:global_step/sec: 376.853\n",
      "INFO:tensorflow:step = 7501, loss = 1.49731e+11 (0.277 sec)\n",
      "INFO:tensorflow:global_step/sec: 367.22\n",
      "INFO:tensorflow:step = 7601, loss = 1.19501e+11 (0.256 sec)\n",
      "INFO:tensorflow:global_step/sec: 384.095\n",
      "INFO:tensorflow:step = 7701, loss = 1.1528e+11 (0.269 sec)\n",
      "INFO:tensorflow:global_step/sec: 355.622\n",
      "INFO:tensorflow:step = 7801, loss = 6.49147e+10 (0.278 sec)\n",
      "INFO:tensorflow:global_step/sec: 397.736\n",
      "INFO:tensorflow:step = 7901, loss = 8.62561e+10 (0.253 sec)\n",
      "INFO:tensorflow:global_step/sec: 420.407\n",
      "INFO:tensorflow:step = 8001, loss = 1.35176e+11 (0.247 sec)\n",
      "INFO:tensorflow:global_step/sec: 367.237\n",
      "INFO:tensorflow:step = 8101, loss = 7.43122e+10 (0.256 sec)\n",
      "INFO:tensorflow:global_step/sec: 405.662\n",
      "INFO:tensorflow:step = 8201, loss = 9.51869e+10 (0.267 sec)\n",
      "INFO:tensorflow:global_step/sec: 382.4\n",
      "INFO:tensorflow:step = 8301, loss = 1.27026e+11 (0.258 sec)\n",
      "INFO:tensorflow:global_step/sec: 385.267\n",
      "INFO:tensorflow:step = 8401, loss = 1.00847e+11 (0.243 sec)\n",
      "INFO:tensorflow:global_step/sec: 395.486\n",
      "INFO:tensorflow:step = 8501, loss = 1.01318e+11 (0.253 sec)\n",
      "INFO:tensorflow:global_step/sec: 428.025\n",
      "INFO:tensorflow:step = 8601, loss = 6.98602e+10 (0.250 sec)\n",
      "INFO:tensorflow:global_step/sec: 373.083\n",
      "INFO:tensorflow:step = 8701, loss = 1.93563e+10 (0.251 sec)\n",
      "INFO:tensorflow:global_step/sec: 401.877\n",
      "INFO:tensorflow:step = 8801, loss = 1.0613e+11 (0.264 sec)\n",
      "INFO:tensorflow:global_step/sec: 359.663\n"
     ]
    },
    {
     "name": "stdout",
     "output_type": "stream",
     "text": [
      "INFO:tensorflow:step = 8901, loss = 6.54748e+10 (0.262 sec)\n",
      "INFO:tensorflow:global_step/sec: 379.928\n",
      "INFO:tensorflow:step = 9001, loss = 1.14459e+11 (0.284 sec)\n",
      "INFO:tensorflow:global_step/sec: 359.259\n",
      "INFO:tensorflow:step = 9101, loss = 6.34744e+10 (0.258 sec)\n",
      "INFO:tensorflow:global_step/sec: 381.528\n",
      "INFO:tensorflow:step = 9201, loss = 8.96557e+10 (0.279 sec)\n",
      "INFO:tensorflow:global_step/sec: 353.68\n",
      "INFO:tensorflow:step = 9301, loss = 1.47923e+11 (0.266 sec)\n",
      "INFO:tensorflow:global_step/sec: 354.545\n",
      "INFO:tensorflow:step = 9401, loss = 9.90724e+10 (0.298 sec)\n",
      "INFO:tensorflow:global_step/sec: 351.889\n",
      "INFO:tensorflow:step = 9501, loss = 1.39297e+11 (0.269 sec)\n",
      "INFO:tensorflow:global_step/sec: 391.856\n",
      "INFO:tensorflow:step = 9601, loss = 8.27257e+10 (0.347 sec)\n",
      "INFO:tensorflow:global_step/sec: 230.173\n",
      "INFO:tensorflow:step = 9701, loss = 1.14882e+11 (0.342 sec)\n",
      "INFO:tensorflow:global_step/sec: 378.457\n",
      "INFO:tensorflow:step = 9801, loss = 1.09805e+11 (0.282 sec)\n",
      "INFO:tensorflow:global_step/sec: 342.32\n",
      "INFO:tensorflow:step = 9901, loss = 6.28374e+10 (0.277 sec)\n",
      "INFO:tensorflow:global_step/sec: 349.712\n",
      "INFO:tensorflow:step = 10001, loss = 9.13123e+10 (0.292 sec)\n",
      "INFO:tensorflow:global_step/sec: 327.694\n",
      "INFO:tensorflow:step = 10101, loss = 1.52731e+11 (0.296 sec)\n",
      "INFO:tensorflow:global_step/sec: 346.26\n",
      "INFO:tensorflow:step = 10201, loss = 2.29188e+11 (0.289 sec)\n",
      "INFO:tensorflow:global_step/sec: 320.856\n",
      "INFO:tensorflow:step = 10301, loss = 4.12408e+10 (0.312 sec)\n",
      "INFO:tensorflow:global_step/sec: 336.011\n",
      "INFO:tensorflow:step = 10401, loss = 7.22871e+10 (0.313 sec)\n",
      "INFO:tensorflow:global_step/sec: 316.082\n",
      "INFO:tensorflow:step = 10501, loss = 7.99571e+10 (0.316 sec)\n",
      "INFO:tensorflow:global_step/sec: 332.042\n",
      "INFO:tensorflow:step = 10601, loss = 8.25743e+10 (0.286 sec)\n",
      "INFO:tensorflow:global_step/sec: 342.161\n",
      "INFO:tensorflow:step = 10701, loss = 6.89138e+10 (0.309 sec)\n",
      "INFO:tensorflow:global_step/sec: 355.46\n",
      "INFO:tensorflow:step = 10801, loss = 1.03626e+11 (0.265 sec)\n",
      "INFO:tensorflow:global_step/sec: 366.363\n",
      "INFO:tensorflow:step = 10901, loss = 8.62724e+10 (0.273 sec)\n",
      "INFO:tensorflow:global_step/sec: 371.041\n",
      "INFO:tensorflow:step = 11001, loss = 1.68847e+11 (0.285 sec)\n",
      "INFO:tensorflow:global_step/sec: 344.192\n",
      "INFO:tensorflow:step = 11101, loss = 9.29235e+10 (0.281 sec)\n",
      "INFO:tensorflow:global_step/sec: 393.804\n",
      "INFO:tensorflow:step = 11201, loss = 4.86932e+10 (0.268 sec)\n",
      "INFO:tensorflow:global_step/sec: 347.246\n",
      "INFO:tensorflow:step = 11301, loss = 9.14642e+10 (0.272 sec)\n",
      "INFO:tensorflow:global_step/sec: 390.137\n",
      "INFO:tensorflow:step = 11401, loss = 1.30935e+11 (0.252 sec)\n",
      "INFO:tensorflow:global_step/sec: 407.02\n",
      "INFO:tensorflow:step = 11501, loss = 1.20182e+11 (0.267 sec)\n",
      "INFO:tensorflow:global_step/sec: 380.931\n",
      "INFO:tensorflow:step = 11601, loss = 1.52229e+11 (0.258 sec)\n",
      "INFO:tensorflow:global_step/sec: 376.787\n",
      "INFO:tensorflow:step = 11701, loss = 5.37352e+10 (0.266 sec)\n",
      "INFO:tensorflow:global_step/sec: 367.892\n",
      "INFO:tensorflow:step = 11801, loss = 8.25542e+10 (0.269 sec)\n",
      "INFO:tensorflow:global_step/sec: 380.156\n",
      "INFO:tensorflow:step = 11901, loss = 1.09106e+11 (0.266 sec)\n",
      "INFO:tensorflow:global_step/sec: 367.914\n",
      "INFO:tensorflow:step = 12001, loss = 6.30182e+10 (0.255 sec)\n",
      "INFO:tensorflow:global_step/sec: 379.011\n",
      "INFO:tensorflow:step = 12101, loss = 1.44453e+11 (0.264 sec)\n",
      "INFO:tensorflow:global_step/sec: 368.141\n",
      "INFO:tensorflow:step = 12201, loss = 1.11927e+11 (0.287 sec)\n",
      "INFO:tensorflow:global_step/sec: 362.777\n",
      "INFO:tensorflow:step = 12301, loss = 3.35659e+10 (0.260 sec)\n",
      "INFO:tensorflow:global_step/sec: 384.606\n",
      "INFO:tensorflow:step = 12401, loss = 9.91349e+10 (0.277 sec)\n",
      "INFO:tensorflow:global_step/sec: 360.472\n",
      "INFO:tensorflow:step = 12501, loss = 5.20757e+10 (0.262 sec)\n",
      "INFO:tensorflow:global_step/sec: 345.493\n",
      "INFO:tensorflow:step = 12601, loss = 5.09854e+10 (0.306 sec)\n",
      "INFO:tensorflow:global_step/sec: 324.883\n",
      "INFO:tensorflow:step = 12701, loss = 8.98271e+10 (0.290 sec)\n",
      "INFO:tensorflow:global_step/sec: 343.927\n",
      "INFO:tensorflow:step = 12801, loss = 1.65899e+11 (0.291 sec)\n",
      "INFO:tensorflow:global_step/sec: 324.346\n",
      "INFO:tensorflow:step = 12901, loss = 1.08092e+11 (0.308 sec)\n",
      "INFO:tensorflow:global_step/sec: 332.554\n",
      "INFO:tensorflow:step = 13001, loss = 8.17548e+10 (0.314 sec)\n",
      "INFO:tensorflow:global_step/sec: 353.457\n",
      "INFO:tensorflow:step = 13101, loss = 1.33439e+11 (0.286 sec)\n",
      "INFO:tensorflow:global_step/sec: 321.947\n",
      "INFO:tensorflow:step = 13201, loss = 8.29614e+10 (0.294 sec)\n",
      "INFO:tensorflow:global_step/sec: 358.181\n",
      "INFO:tensorflow:step = 13301, loss = 9.97792e+10 (0.279 sec)\n",
      "INFO:tensorflow:global_step/sec: 361.121\n",
      "INFO:tensorflow:step = 13401, loss = 1.40253e+11 (0.293 sec)\n",
      "INFO:tensorflow:global_step/sec: 352.546\n",
      "INFO:tensorflow:step = 13501, loss = 5.88268e+10 (0.282 sec)\n",
      "INFO:tensorflow:global_step/sec: 336.096\n",
      "INFO:tensorflow:step = 13601, loss = 9.68102e+10 (0.284 sec)\n",
      "INFO:tensorflow:global_step/sec: 347.291\n",
      "INFO:tensorflow:step = 13701, loss = 8.87504e+10 (0.289 sec)\n",
      "INFO:tensorflow:global_step/sec: 348.354\n",
      "INFO:tensorflow:step = 13801, loss = 2.406e+11 (0.293 sec)\n",
      "INFO:tensorflow:global_step/sec: 356.389\n",
      "INFO:tensorflow:step = 13901, loss = 5.35783e+10 (0.281 sec)\n",
      "INFO:tensorflow:global_step/sec: 348.114\n",
      "INFO:tensorflow:step = 14001, loss = 1.13658e+11 (0.289 sec)\n",
      "INFO:tensorflow:global_step/sec: 371.307\n",
      "INFO:tensorflow:step = 14101, loss = 1.04273e+11 (0.268 sec)\n",
      "INFO:tensorflow:global_step/sec: 372.618\n",
      "INFO:tensorflow:step = 14201, loss = 4.00396e+10 (0.268 sec)\n",
      "INFO:tensorflow:global_step/sec: 345.702\n",
      "INFO:tensorflow:step = 14301, loss = 9.21623e+10 (0.291 sec)\n",
      "INFO:tensorflow:global_step/sec: 394.917\n",
      "INFO:tensorflow:step = 14401, loss = 9.48023e+10 (0.244 sec)\n",
      "INFO:tensorflow:global_step/sec: 377.146\n",
      "INFO:tensorflow:step = 14501, loss = 7.67059e+10 (0.265 sec)\n",
      "INFO:tensorflow:global_step/sec: 401.795\n",
      "INFO:tensorflow:step = 14601, loss = 5.70786e+10 (0.265 sec)\n",
      "INFO:tensorflow:global_step/sec: 376.071\n",
      "INFO:tensorflow:step = 14701, loss = 6.20096e+10 (0.250 sec)\n",
      "INFO:tensorflow:global_step/sec: 396.884\n",
      "INFO:tensorflow:step = 14801, loss = 7.00703e+10 (0.270 sec)\n",
      "INFO:tensorflow:global_step/sec: 362.402\n",
      "INFO:tensorflow:step = 14901, loss = 4.16907e+10 (0.275 sec)\n",
      "INFO:tensorflow:global_step/sec: 393.461\n",
      "INFO:tensorflow:step = 15001, loss = 1.01486e+11 (0.253 sec)\n",
      "INFO:tensorflow:global_step/sec: 335.332\n",
      "INFO:tensorflow:step = 15101, loss = 6.31325e+10 (0.283 sec)\n",
      "INFO:tensorflow:global_step/sec: 386.617\n",
      "INFO:tensorflow:step = 15201, loss = 3.40794e+10 (0.260 sec)\n",
      "INFO:tensorflow:global_step/sec: 409.14\n",
      "INFO:tensorflow:step = 15301, loss = 1.40318e+11 (0.243 sec)\n",
      "INFO:tensorflow:global_step/sec: 415.923\n",
      "INFO:tensorflow:step = 15401, loss = 8.9698e+10 (0.257 sec)\n",
      "INFO:tensorflow:global_step/sec: 357.968\n",
      "INFO:tensorflow:step = 15501, loss = 7.91174e+10 (0.263 sec)\n",
      "INFO:tensorflow:global_step/sec: 401.473\n",
      "INFO:tensorflow:step = 15601, loss = 4.40765e+10 (0.265 sec)\n",
      "INFO:tensorflow:global_step/sec: 376.767\n",
      "INFO:tensorflow:step = 15701, loss = 7.06532e+10 (0.250 sec)\n",
      "INFO:tensorflow:global_step/sec: 391.442\n",
      "INFO:tensorflow:step = 15801, loss = 1.1455e+11 (0.273 sec)\n",
      "INFO:tensorflow:global_step/sec: 437.948\n",
      "INFO:tensorflow:step = 15901, loss = 8.98019e+10 (0.227 sec)\n",
      "INFO:tensorflow:global_step/sec: 372.947\n",
      "INFO:tensorflow:step = 16001, loss = 6.55469e+10 (0.252 sec)\n",
      "INFO:tensorflow:global_step/sec: 410.952\n",
      "INFO:tensorflow:step = 16101, loss = 9.02656e+10 (0.260 sec)\n",
      "INFO:tensorflow:global_step/sec: 382.006\n",
      "INFO:tensorflow:step = 16201, loss = 9.02389e+10 (0.262 sec)\n",
      "INFO:tensorflow:global_step/sec: 366.721\n",
      "INFO:tensorflow:step = 16301, loss = 1.67734e+11 (0.275 sec)\n",
      "INFO:tensorflow:global_step/sec: 400.245\n",
      "INFO:tensorflow:step = 16401, loss = 1.22704e+11 (0.231 sec)\n",
      "INFO:tensorflow:global_step/sec: 396.435\n",
      "INFO:tensorflow:step = 16501, loss = 1.23497e+11 (0.269 sec)\n",
      "INFO:tensorflow:global_step/sec: 392.625\n",
      "INFO:tensorflow:step = 16601, loss = 1.36121e+11 (0.238 sec)\n",
      "INFO:tensorflow:global_step/sec: 431.355\n",
      "INFO:tensorflow:step = 16701, loss = 1.33574e+11 (0.247 sec)\n",
      "INFO:tensorflow:global_step/sec: 376.294\n",
      "INFO:tensorflow:step = 16801, loss = 2.03009e+11 (0.250 sec)\n",
      "INFO:tensorflow:global_step/sec: 371.064\n",
      "INFO:tensorflow:step = 16901, loss = 1.49031e+11 (0.269 sec)\n"
     ]
    },
    {
     "name": "stdout",
     "output_type": "stream",
     "text": [
      "INFO:tensorflow:global_step/sec: 396.116\n",
      "INFO:tensorflow:step = 17001, loss = 7.91744e+10 (0.269 sec)\n",
      "INFO:tensorflow:global_step/sec: 362.438\n",
      "INFO:tensorflow:step = 17101, loss = 1.02696e+11 (0.259 sec)\n",
      "INFO:tensorflow:global_step/sec: 374.937\n",
      "INFO:tensorflow:step = 17201, loss = 7.78937e+10 (0.284 sec)\n",
      "INFO:tensorflow:global_step/sec: 354.788\n",
      "INFO:tensorflow:step = 17301, loss = 1.40417e+11 (0.264 sec)\n",
      "INFO:tensorflow:global_step/sec: 361.87\n",
      "INFO:tensorflow:step = 17401, loss = 1.02753e+11 (0.276 sec)\n",
      "INFO:tensorflow:global_step/sec: 347.791\n",
      "INFO:tensorflow:step = 17501, loss = 1.20981e+11 (0.303 sec)\n",
      "INFO:tensorflow:global_step/sec: 379.471\n",
      "INFO:tensorflow:step = 17601, loss = 9.83978e+10 (0.265 sec)\n",
      "INFO:tensorflow:global_step/sec: 343.488\n",
      "INFO:tensorflow:step = 17701, loss = 7.24509e+10 (0.274 sec)\n",
      "INFO:tensorflow:global_step/sec: 367.838\n",
      "INFO:tensorflow:step = 17801, loss = 1.4976e+11 (0.272 sec)\n",
      "INFO:tensorflow:global_step/sec: 375.773\n",
      "INFO:tensorflow:step = 17901, loss = 1.45711e+11 (0.266 sec)\n",
      "INFO:tensorflow:global_step/sec: 360.845\n",
      "INFO:tensorflow:step = 18001, loss = 3.93203e+10 (0.277 sec)\n",
      "INFO:tensorflow:global_step/sec: 390.832\n",
      "INFO:tensorflow:step = 18101, loss = 1.39095e+11 (0.271 sec)\n",
      "INFO:tensorflow:global_step/sec: 345.804\n",
      "INFO:tensorflow:step = 18201, loss = 1.76959e+11 (0.274 sec)\n",
      "INFO:tensorflow:global_step/sec: 387.679\n",
      "INFO:tensorflow:step = 18301, loss = 6.34787e+10 (0.274 sec)\n",
      "INFO:tensorflow:global_step/sec: 350.298\n",
      "INFO:tensorflow:step = 18401, loss = 1.10135e+11 (0.269 sec)\n",
      "INFO:tensorflow:global_step/sec: 373.828\n",
      "INFO:tensorflow:step = 18501, loss = 9.27301e+10 (0.268 sec)\n",
      "INFO:tensorflow:global_step/sec: 380.32\n",
      "INFO:tensorflow:step = 18601, loss = 5.24208e+10 (0.279 sec)\n",
      "INFO:tensorflow:global_step/sec: 375.365\n",
      "INFO:tensorflow:step = 18701, loss = 6.13033e+10 (0.266 sec)\n",
      "INFO:tensorflow:global_step/sec: 351.404\n",
      "INFO:tensorflow:step = 18801, loss = 1.30658e+11 (0.269 sec)\n",
      "INFO:tensorflow:global_step/sec: 374.072\n",
      "INFO:tensorflow:step = 18901, loss = 1.39557e+11 (0.267 sec)\n",
      "INFO:tensorflow:global_step/sec: 374.907\n",
      "INFO:tensorflow:step = 19001, loss = 3.82568e+10 (0.267 sec)\n",
      "INFO:tensorflow:global_step/sec: 373.711\n",
      "INFO:tensorflow:step = 19101, loss = 6.07728e+10 (0.268 sec)\n",
      "INFO:tensorflow:global_step/sec: 367.557\n",
      "INFO:tensorflow:step = 19201, loss = 6.55967e+10 (0.273 sec)\n",
      "INFO:tensorflow:global_step/sec: 384.014\n",
      "INFO:tensorflow:step = 19301, loss = 1.25732e+11 (0.259 sec)\n",
      "INFO:tensorflow:global_step/sec: 380.382\n",
      "INFO:tensorflow:step = 19401, loss = 1.04814e+11 (0.279 sec)\n",
      "INFO:tensorflow:global_step/sec: 374.452\n",
      "INFO:tensorflow:step = 19501, loss = 6.68447e+10 (0.267 sec)\n",
      "INFO:tensorflow:global_step/sec: 369.11\n",
      "INFO:tensorflow:step = 19601, loss = 8.85934e+10 (0.266 sec)\n",
      "INFO:tensorflow:global_step/sec: 372.623\n",
      "INFO:tensorflow:step = 19701, loss = 1.1422e+11 (0.257 sec)\n",
      "INFO:tensorflow:global_step/sec: 379.626\n",
      "INFO:tensorflow:step = 19801, loss = 4.643e+10 (0.263 sec)\n",
      "INFO:tensorflow:global_step/sec: 376.404\n",
      "INFO:tensorflow:step = 19901, loss = 1.28546e+11 (0.266 sec)\n",
      "INFO:tensorflow:global_step/sec: 388.62\n",
      "INFO:tensorflow:step = 20001, loss = 7.36267e+10 (0.273 sec)\n",
      "INFO:tensorflow:global_step/sec: 383.497\n",
      "INFO:tensorflow:step = 20101, loss = 8.37227e+10 (0.262 sec)\n",
      "INFO:tensorflow:global_step/sec: 373.31\n",
      "INFO:tensorflow:step = 20201, loss = 1.15607e+11 (0.251 sec)\n",
      "INFO:tensorflow:global_step/sec: 371.098\n",
      "INFO:tensorflow:step = 20301, loss = 7.3225e+10 (0.269 sec)\n",
      "INFO:tensorflow:global_step/sec: 396.129\n",
      "INFO:tensorflow:step = 20401, loss = 1.27001e+11 (0.268 sec)\n",
      "INFO:tensorflow:global_step/sec: 374.207\n",
      "INFO:tensorflow:step = 20501, loss = 8.67806e+10 (0.268 sec)\n",
      "INFO:tensorflow:global_step/sec: 365.198\n",
      "INFO:tensorflow:step = 20601, loss = 1.13694e+10 (0.274 sec)\n",
      "INFO:tensorflow:global_step/sec: 381.082\n",
      "INFO:tensorflow:step = 20701, loss = 1.355e+11 (0.261 sec)\n",
      "INFO:tensorflow:global_step/sec: 358.518\n",
      "INFO:tensorflow:step = 20801, loss = 1.89036e+11 (0.279 sec)\n",
      "INFO:tensorflow:global_step/sec: 369.314\n",
      "INFO:tensorflow:step = 20901, loss = 1.26022e+11 (0.255 sec)\n",
      "INFO:tensorflow:global_step/sec: 389.494\n",
      "INFO:tensorflow:step = 21001, loss = 1.41893e+11 (0.272 sec)\n",
      "INFO:tensorflow:global_step/sec: 373.493\n",
      "INFO:tensorflow:step = 21101, loss = 4.13107e+10 (0.268 sec)\n",
      "INFO:tensorflow:global_step/sec: 364.472\n",
      "INFO:tensorflow:step = 21201, loss = 8.05391e+10 (0.274 sec)\n",
      "INFO:tensorflow:global_step/sec: 381.015\n",
      "INFO:tensorflow:step = 21301, loss = 1.08073e+11 (0.263 sec)\n",
      "INFO:tensorflow:global_step/sec: 381.817\n",
      "INFO:tensorflow:step = 21401, loss = 5.61748e+10 (0.261 sec)\n",
      "INFO:tensorflow:global_step/sec: 364.892\n",
      "INFO:tensorflow:step = 21501, loss = 2.13945e+10 (0.274 sec)\n",
      "INFO:tensorflow:global_step/sec: 383.74\n",
      "INFO:tensorflow:step = 21601, loss = 1.31474e+11 (0.245 sec)\n",
      "INFO:tensorflow:global_step/sec: 392.128\n",
      "INFO:tensorflow:step = 21701, loss = 1.0898e+11 (0.272 sec)\n",
      "INFO:tensorflow:global_step/sec: 397.142\n",
      "INFO:tensorflow:step = 21801, loss = 9.44559e+10 (0.251 sec)\n",
      "INFO:tensorflow:global_step/sec: 359.38\n",
      "INFO:tensorflow:step = 21901, loss = 3.77423e+10 (0.262 sec)\n",
      "INFO:tensorflow:global_step/sec: 376.98\n",
      "INFO:tensorflow:step = 22001, loss = 7.17735e+10 (0.265 sec)\n",
      "INFO:tensorflow:global_step/sec: 376.54\n",
      "INFO:tensorflow:step = 22101, loss = 1.34887e+11 (0.266 sec)\n",
      "INFO:tensorflow:global_step/sec: 409.521\n",
      "INFO:tensorflow:step = 22201, loss = 1.34753e+11 (0.262 sec)\n",
      "INFO:tensorflow:global_step/sec: 369.081\n",
      "INFO:tensorflow:step = 22301, loss = 6.08706e+10 (0.254 sec)\n",
      "INFO:tensorflow:global_step/sec: 376.386\n",
      "INFO:tensorflow:step = 22401, loss = 4.84069e+10 (0.282 sec)\n",
      "INFO:tensorflow:global_step/sec: 354.499\n",
      "INFO:tensorflow:step = 22501, loss = 9.93677e+10 (0.265 sec)\n",
      "INFO:tensorflow:global_step/sec: 374.794\n",
      "INFO:tensorflow:step = 22601, loss = 6.07335e+10 (0.267 sec)\n",
      "INFO:tensorflow:global_step/sec: 394.98\n",
      "INFO:tensorflow:step = 22701, loss = 5.7071e+10 (0.253 sec)\n",
      "INFO:tensorflow:global_step/sec: 369.875\n",
      "INFO:tensorflow:step = 22801, loss = 1.7885e+11 (0.270 sec)\n",
      "INFO:tensorflow:global_step/sec: 379.267\n",
      "INFO:tensorflow:step = 22901, loss = 1.3287e+11 (0.264 sec)\n",
      "INFO:tensorflow:global_step/sec: 403.984\n",
      "INFO:tensorflow:step = 23001, loss = 1.5258e+11 (0.270 sec)\n",
      "INFO:tensorflow:global_step/sec: 392.693\n",
      "INFO:tensorflow:step = 23101, loss = 8.93239e+10 (0.250 sec)\n",
      "INFO:tensorflow:global_step/sec: 365.219\n",
      "INFO:tensorflow:step = 23201, loss = 2.38379e+11 (0.263 sec)\n",
      "INFO:tensorflow:global_step/sec: 391.615\n",
      "INFO:tensorflow:step = 23301, loss = 1.02488e+11 (0.248 sec)\n",
      "INFO:tensorflow:global_step/sec: 389.977\n",
      "INFO:tensorflow:step = 23401, loss = 9.89131e+10 (0.257 sec)\n",
      "INFO:tensorflow:global_step/sec: 411.541\n",
      "INFO:tensorflow:step = 23501, loss = 6.41573e+10 (0.242 sec)\n",
      "INFO:tensorflow:global_step/sec: 396.003\n",
      "INFO:tensorflow:step = 23601, loss = 8.67859e+10 (0.268 sec)\n",
      "INFO:tensorflow:global_step/sec: 375.728\n",
      "INFO:tensorflow:step = 23701, loss = 6.00625e+10 (0.251 sec)\n",
      "INFO:tensorflow:global_step/sec: 373.116\n",
      "INFO:tensorflow:step = 23801, loss = 1.39361e+11 (0.276 sec)\n",
      "INFO:tensorflow:global_step/sec: 403.233\n",
      "INFO:tensorflow:step = 23901, loss = 2.92071e+10 (0.262 sec)\n",
      "INFO:tensorflow:global_step/sec: 371.915\n",
      "INFO:tensorflow:step = 24001, loss = 5.94853e+10 (0.247 sec)\n",
      "INFO:tensorflow:global_step/sec: 398.46\n",
      "INFO:tensorflow:step = 24101, loss = 9.33614e+10 (0.251 sec)\n",
      "INFO:tensorflow:global_step/sec: 388.63\n",
      "INFO:tensorflow:step = 24201, loss = 6.19749e+10 (0.273 sec)\n",
      "INFO:tensorflow:global_step/sec: 389.686\n",
      "INFO:tensorflow:step = 24301, loss = 1.12047e+11 (0.241 sec)\n",
      "INFO:tensorflow:global_step/sec: 393.417\n",
      "INFO:tensorflow:step = 24401, loss = 9.88897e+10 (0.254 sec)\n",
      "INFO:tensorflow:global_step/sec: 381.572\n",
      "INFO:tensorflow:step = 24501, loss = 1.29043e+11 (0.262 sec)\n",
      "INFO:tensorflow:global_step/sec: 397.21\n",
      "INFO:tensorflow:step = 24601, loss = 5.10198e+10 (0.252 sec)\n",
      "INFO:tensorflow:global_step/sec: 374.094\n",
      "INFO:tensorflow:step = 24701, loss = 1.37139e+11 (0.283 sec)\n",
      "INFO:tensorflow:global_step/sec: 375.982\n",
      "INFO:tensorflow:step = 24801, loss = 4.02381e+10 (0.250 sec)\n",
      "INFO:tensorflow:global_step/sec: 402.85\n",
      "INFO:tensorflow:step = 24901, loss = 6.99681e+10 (0.264 sec)\n",
      "INFO:tensorflow:global_step/sec: 400.224\n",
      "INFO:tensorflow:step = 25001, loss = 6.03389e+10 (0.250 sec)\n"
     ]
    },
    {
     "name": "stdout",
     "output_type": "stream",
     "text": [
      "INFO:tensorflow:global_step/sec: 382.723\n",
      "INFO:tensorflow:step = 25101, loss = 4.10314e+10 (0.246 sec)\n",
      "INFO:tensorflow:global_step/sec: 397.868\n",
      "INFO:tensorflow:step = 25201, loss = 5.87267e+10 (0.267 sec)\n",
      "INFO:tensorflow:global_step/sec: 358.866\n",
      "INFO:tensorflow:step = 25301, loss = 1.06126e+11 (0.282 sec)\n",
      "INFO:tensorflow:global_step/sec: 363.526\n",
      "INFO:tensorflow:step = 25401, loss = 1.17872e+11 (0.273 sec)\n",
      "INFO:tensorflow:global_step/sec: 352.808\n",
      "INFO:tensorflow:step = 25501, loss = 1.15296e+11 (0.268 sec)\n",
      "INFO:tensorflow:global_step/sec: 376.458\n",
      "INFO:tensorflow:step = 25601, loss = 4.64678e+10 (0.265 sec)\n",
      "INFO:tensorflow:global_step/sec: 372.766\n",
      "INFO:tensorflow:step = 25701, loss = 2.27111e+10 (0.268 sec)\n",
      "INFO:tensorflow:global_step/sec: 354.066\n",
      "INFO:tensorflow:step = 25801, loss = 1.19229e+11 (0.282 sec)\n",
      "INFO:tensorflow:global_step/sec: 405.117\n",
      "INFO:tensorflow:step = 25901, loss = 1.07522e+11 (0.264 sec)\n",
      "INFO:tensorflow:Saving checkpoints for 26000 into C:\\Users\\shiva\\AppData\\Local\\Temp\\tmpaclkqe8u\\model.ckpt.\n",
      "INFO:tensorflow:Loss for final step: 1.37286e+11.\n"
     ]
    },
    {
     "data": {
      "text/plain": [
       "<tensorflow.python.estimator.canned.dnn.DNNRegressor at 0x29c71c9c0b8>"
      ]
     },
     "execution_count": 58,
     "metadata": {},
     "output_type": "execute_result"
    }
   ],
   "source": [
    "model.train(input_fn=input_func, steps=25000)"
   ]
  },
  {
   "cell_type": "markdown",
   "metadata": {},
   "source": [
    "** Create a prediction input function and then use the .predict method off your estimator model to create a list or predictions on your test data. **"
   ]
  },
  {
   "cell_type": "code",
   "execution_count": 59,
   "metadata": {
    "collapsed": true
   },
   "outputs": [],
   "source": [
    "predict_input_func = tf.estimator.inputs.pandas_input_fn(x = X_test, batch_size=10, num_epochs=1, shuffle=False)"
   ]
  },
  {
   "cell_type": "code",
   "execution_count": 60,
   "metadata": {},
   "outputs": [],
   "source": [
    "result = model.predict(input_fn=predict_input_func)"
   ]
  },
  {
   "cell_type": "code",
   "execution_count": 61,
   "metadata": {},
   "outputs": [
    {
     "name": "stdout",
     "output_type": "stream",
     "text": [
      "INFO:tensorflow:Restoring parameters from C:\\Users\\shiva\\AppData\\Local\\Temp\\tmpaclkqe8u\\model.ckpt-26000\n"
     ]
    }
   ],
   "source": [
    "predictions = list(result)"
   ]
  },
  {
   "cell_type": "markdown",
   "metadata": {},
   "source": [
    "** Calculate the RMSE. You should be able to get around 100,000 RMSE (remember that this is in the same units as the label.) Do this manually or use [sklearn.metrics](http://scikit-learn.org/stable/modules/generated/sklearn.metrics.mean_squared_error.html) **"
   ]
  },
  {
   "cell_type": "code",
   "execution_count": 62,
   "metadata": {},
   "outputs": [],
   "source": [
    "final_pred = []\n",
    "for pred in predictions:\n",
    "    final_pred.append(pred['predictions'])"
   ]
  },
  {
   "cell_type": "code",
   "execution_count": 63,
   "metadata": {
    "collapsed": true
   },
   "outputs": [],
   "source": [
    "from sklearn.metrics import mean_squared_error"
   ]
  },
  {
   "cell_type": "code",
   "execution_count": 64,
   "metadata": {},
   "outputs": [
    {
     "data": {
      "text/plain": [
       "98345.980714512436"
      ]
     },
     "execution_count": 64,
     "metadata": {},
     "output_type": "execute_result"
    }
   ],
   "source": [
    "mean_squared_error(y_test, final_pred)**0.5"
   ]
  },
  {
   "cell_type": "markdown",
   "metadata": {},
   "source": [
    "# Great Job!"
   ]
  }
 ],
 "metadata": {
  "kernelspec": {
   "display_name": "Python 3",
   "language": "python",
   "name": "python3"
  },
  "language_info": {
   "codemirror_mode": {
    "name": "ipython",
    "version": 3
   },
   "file_extension": ".py",
   "mimetype": "text/x-python",
   "name": "python",
   "nbconvert_exporter": "python",
   "pygments_lexer": "ipython3",
   "version": "3.5.4"
  }
 },
 "nbformat": 4,
 "nbformat_minor": 2
}
